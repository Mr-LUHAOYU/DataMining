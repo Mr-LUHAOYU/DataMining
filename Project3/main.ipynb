{
 "cells": [
  {
   "cell_type": "code",
   "execution_count": null,
   "id": "initial_id",
   "metadata": {
    "collapsed": true
   },
   "outputs": [],
   "source": [
    "import numpy as np\n",
    "import pandas as pd\n",
    "from sklearn.model_selection import train_test_split\n",
    "from sklearn.linear_model import LinearRegression\n",
    "from sklearn.metrics import mean_squared_error\n",
    "from sklearn.preprocessing import LabelEncoder\n",
    "from IPython.core.interactiveshell import InteractiveShell\n",
    "InteractiveShell.ast_node_interactivity = \"all\""
   ]
  },
  {
   "cell_type": "code",
   "outputs": [],
   "source": [
    "df = pd.read_csv('housing.csv')\n",
    "df.dtypes"
   ],
   "metadata": {
    "collapsed": false
   },
   "id": "316d6ca8d809f489",
   "execution_count": null
  },
  {
   "cell_type": "code",
   "outputs": [],
   "source": [
    "df.dropna(inplace=True)\n",
    "df['ocean_proximity'] = LabelEncoder().fit_transform(df['ocean_proximity'])\n",
    "df.head()"
   ],
   "metadata": {
    "collapsed": false
   },
   "id": "bb411e119ead99fb",
   "execution_count": null
  },
  {
   "cell_type": "code",
   "outputs": [],
   "source": [
    "def Normalize(dataframe: pd.DataFrame, columns: list) -> pd.DataFrame:\n",
    "    dataframe[columns] = (dataframe[columns] - dataframe[columns].min()) / (dataframe[columns].max() - dataframe[columns].min())\n",
    "    return dataframe\n",
    "\n",
    "def Discretize(dataframe: pd.DataFrame, columns: list) -> pd.DataFrame:\n",
    "    for col in columns:\n",
    "        dataframe[col] = pd.cut(dataframe[col], bins=10, labels=False)\n",
    "    return dataframe\n",
    "\n",
    "# df = Discretize(df, [\n",
    "#     'longitude', 'latitude', 'housing_median_age', 'total_rooms',\n",
    "#     'total_bedrooms', 'population', 'households', 'median_income',\n",
    "#     'ocean_proximity','median_house_value'\n",
    "# ])\n",
    "# df = Discretize(df, ['housing_median_age', 'median_income'])\n",
    "df = Discretize(df, [])\n",
    "\n",
    "df = Normalize(df, [\n",
    "    'longitude', 'latitude', 'housing_median_age', 'total_rooms',\n",
    "    'total_bedrooms', 'population', 'households', 'median_income',\n",
    "    'ocean_proximity','median_house_value'\n",
    "])"
   ],
   "metadata": {
    "collapsed": false
   },
   "id": "91ca43314ac90a7c",
   "execution_count": null
  },
  {
   "cell_type": "code",
   "outputs": [],
   "source": [
    "train_df, test_df = train_test_split(df, test_size=0.3, random_state=42)"
   ],
   "metadata": {
    "collapsed": false
   },
   "id": "bab56fd0e9aaea8b",
   "execution_count": null
  },
  {
   "cell_type": "code",
   "outputs": [],
   "source": [
    "def trainAtest(\n",
    "        train_df: pd.DataFrame, test_df: pd.DataFrame, \n",
    "        target_column: str, train_size: float = 0.8,\n",
    ") -> np.float64:\n",
    "    # MSE\n",
    "    model = LinearRegression()\n",
    "    part_df, _ = train_test_split(train_df, train_size=train_size, random_state=42)\n",
    "    model.fit(part_df.drop(columns=[target_column]), part_df[target_column])\n",
    "    y_pred = model.predict(test_df.drop(columns=[target_column]))\n",
    "    mse = mean_squared_error(test_df[target_column], y_pred)\n",
    "    return mse\n",
    "\n",
    "for r in [0.1, 0.3, 0.5, 0.8]:\n",
    "    mse = trainAtest(train_df, test_df, 'median_house_value', r)\n",
    "    print(f'{r}: {mse:.4f}')"
   ],
   "metadata": {
    "collapsed": false
   },
   "id": "22ab91fb6e1660e4",
   "execution_count": null
  }
 ],
 "metadata": {
  "kernelspec": {
   "display_name": "Python 3",
   "language": "python",
   "name": "python3"
  },
  "language_info": {
   "codemirror_mode": {
    "name": "ipython",
    "version": 2
   },
   "file_extension": ".py",
   "mimetype": "text/x-python",
   "name": "python",
   "nbconvert_exporter": "python",
   "pygments_lexer": "ipython2",
   "version": "2.7.6"
  }
 },
 "nbformat": 4,
 "nbformat_minor": 5
}
