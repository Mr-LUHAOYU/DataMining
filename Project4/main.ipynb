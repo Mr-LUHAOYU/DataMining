{
 "cells": [
  {
   "cell_type": "code",
   "outputs": [],
   "source": [
    "import numpy as np\n",
    "import pandas as pd\n"
   ],
   "metadata": {
    "collapsed": false
   },
   "id": "7da1667fd81548ae",
   "execution_count": null
  },
  {
   "cell_type": "code",
   "outputs": [],
   "source": [
    "def load_data():\n",
    "    df = pd.read_csv('GroceryStoreDataSet.csv', header=None)\n",
    "    df = df[0].apply(lambda x: x.split(',')).tolist()\n",
    "    return df"
   ],
   "metadata": {
    "collapsed": false
   },
   "id": "a5a96d795ab94a4",
   "execution_count": null
  },
  {
   "cell_type": "code",
   "outputs": [],
   "source": [
    "load_data()[:5:]"
   ],
   "metadata": {
    "collapsed": false
   },
   "id": "68f02b902047da2e",
   "execution_count": null
  },
  {
   "cell_type": "code",
   "outputs": [],
   "source": [
    "def calculate_support(data, itemset):\n",
    "    count = sum(1 for transaction in data if itemset.issubset(transaction))\n",
    "    return count / len(data)"
   ],
   "metadata": {
    "collapsed": false
   },
   "id": "eec50b747ed38f12",
   "execution_count": null
  },
  {
   "cell_type": "code",
   "outputs": [],
   "source": [
    "def find_frequent_1_itemsets(data, min_support):\n",
    "    items = set(item for transaction in data for item in transaction)\n",
    "    frequent_1_itemsets = []\n",
    "    for item in items:\n",
    "        itemset = frozenset([item])\n",
    "        support = calculate_support(data, itemset)\n",
    "        if support >= min_support:\n",
    "            frequent_1_itemsets.append(itemset)\n",
    "    return frequent_1_itemsets"
   ],
   "metadata": {
    "collapsed": false
   },
   "id": "9ab0332bb3c3509e",
   "execution_count": null
  },
  {
   "cell_type": "code",
   "outputs": [],
   "source": [
    "def apriori(data, min_support):\n",
    "    frequent_itemsets = []\n",
    "    current_frequent_itemsets = find_frequent_1_itemsets(data, min_support)\n",
    "    k = 2\n",
    "\n",
    "    while current_frequent_itemsets:\n",
    "        frequent_itemsets.extend(current_frequent_itemsets)\n",
    "        candidate_k_itemsets = [\n",
    "            i.union(j) for i in current_frequent_itemsets for j in current_frequent_itemsets if len(i.union(j)) == k\n",
    "        ]\n",
    "        candidate_k_itemsets = list(set(candidate_k_itemsets))\n",
    "        current_frequent_itemsets = []\n",
    "        for itemset in candidate_k_itemsets:\n",
    "            support = calculate_support(data, itemset)\n",
    "            if support >= min_support:\n",
    "                current_frequent_itemsets.append(itemset)\n",
    "        k += 1\n",
    "\n",
    "    return frequent_itemsets"
   ],
   "metadata": {
    "collapsed": false
   },
   "id": "5e639f7027f7aa9f",
   "execution_count": null
  },
  {
   "cell_type": "code",
   "outputs": [],
   "source": [
    "data = load_data()\n",
    "min_support = 0.1\n",
    "frequent_itemsets = map(list, apriori(data, min_support))\n",
    "list(frequent_itemsets)"
   ],
   "metadata": {
    "collapsed": false
   },
   "id": "8871379aad957681",
   "execution_count": null
  }
 ],
 "metadata": {
  "kernelspec": {
   "display_name": "Python 3",
   "language": "python",
   "name": "python3"
  },
  "language_info": {
   "codemirror_mode": {
    "name": "ipython",
    "version": 2
   },
   "file_extension": ".py",
   "mimetype": "text/x-python",
   "name": "python",
   "nbconvert_exporter": "python",
   "pygments_lexer": "ipython2",
   "version": "2.7.6"
  }
 },
 "nbformat": 4,
 "nbformat_minor": 5
}
