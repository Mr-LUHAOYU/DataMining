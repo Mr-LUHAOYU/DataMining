{
 "cells": [
  {
   "cell_type": "code",
   "execution_count": null,
   "id": "initial_id",
   "metadata": {
    "collapsed": true
   },
   "outputs": [],
   "source": [
    "import numpy as np\n",
    "import pandas as pd\n",
    "import matplotlib.pyplot as plt\n",
    "import scipy"
   ]
  },
  {
   "cell_type": "code",
   "outputs": [],
   "source": [
    "df = pd.read_csv('Titanic.csv')"
   ],
   "metadata": {
    "collapsed": false
   },
   "id": "c2c98bd0818b88d3",
   "execution_count": null
  },
  {
   "cell_type": "code",
   "outputs": [],
   "source": [
    "# def draw_pie(series: pd.Series, title: str) -> None:\n",
    "#     # series = series.apply(lambda x:str(x) if x <= 3 else '4+')\n",
    "#     value_counts = series.dropna().value_counts()\n",
    "#     value_counts.name = title\n",
    "#     value_counts.plot(kind='pie', autopct='%1.1f%%')\n",
    "#     plt.show()\n",
    "# \n",
    "# def draw_line(series: pd.Series, title: str) -> None:\n",
    "#     value_counts = series.dropna().astype(int).value_counts().sort_index()\n",
    "#     value_counts.name = title\n",
    "#     value_counts.plot(kind='line')\n",
    "#     plt.show()\n",
    "# \n",
    "# def draw_bar(series: pd.Series, title: str) -> None:\n",
    "#     value_counts = series.dropna().value_counts().sort_index()\n",
    "#     value_counts.name = title\n",
    "#     value_counts.plot(kind='bar')\n",
    "#     plt.show()\n",
    "# \n",
    "# def draw_hist(series: pd.Series, title: str) -> None:\n",
    "#     series.dropna().plot(kind='hist', bins=20)\n",
    "#     plt.xlabel(title)\n",
    "#     plt.show()\n",
    "# \n",
    "# def draw_box(series: pd.Series):\n",
    "#     series.dropna().plot(kind='box')\n",
    "#     plt.show()\n",
    "# \n",
    "# def draw_scatter(series: pd.Series):\n",
    "#     ser = series.dropna().value_counts().sort_index()\n",
    "#     plt.scatter(ser.index, ser.values)\n",
    "#     plt.show()\n"
   ],
   "metadata": {
    "collapsed": false
   },
   "id": "25d56a5ff8b5a6b7",
   "execution_count": null
  },
  {
   "cell_type": "code",
   "outputs": [],
   "source": [
    "# draw_pie(df['Pclass'], 'Pclass')\n",
    "# draw_pie(df['Sex'], 'Sex')\n",
    "# draw_line(df['Age'], 'Age')\n",
    "# draw_box(df['SibSp'])\n",
    "# draw_pie(df['SibSp'], title='SibSp')\n",
    "# draw_hist(df['Fare'], 'Fare')\n",
    "# draw_pie(df['Embarked'], 'Embarked')"
   ],
   "metadata": {
    "collapsed": false
   },
   "id": "1f2fc84d4f47f3c5",
   "execution_count": null
  },
  {
   "cell_type": "code",
   "outputs": [],
   "source": [
    "# def draw_scatterConnection(series1: pd.Series, series2: pd.Series):\n",
    "#     plt.scatter(series1, series2)\n",
    "#     plt.show()\n",
    "# \n",
    "# def draw_boxConnection(series1: pd.Series, series2: pd.Series):\n",
    "#     plt.boxplot([series1, series2])\n",
    "#     plt.show()\n",
    "# \n",
    "# def draw_stackbarConnection(series1: pd.Series, series2: pd.Series):\n",
    "#     pd.crosstab(series1, series2).plot(kind='bar', stacked=True)\n",
    "#     plt.show()\n",
    "# \n"
   ],
   "metadata": {
    "collapsed": false
   },
   "id": "c8dbb4518182fdfc",
   "execution_count": null
  },
  {
   "cell_type": "code",
   "outputs": [],
   "source": [
    "# def drawSurvivedByAge(df: pd.DataFrame):\n",
    "#     df['Age'] = df['Age'].apply(\n",
    "#         lambda x: int(x / 10) * 10 if not np.isnan(x) else x\n",
    "#     )\n",
    "#     \n",
    "#     Age = [None]\n",
    "# \n",
    "#     for i in range(0, 80, 10):\n",
    "#         Age.append(\n",
    "#             df[df['Age'] == i]['Survived'].dropna().value_counts()\n",
    "#         )\n",
    "#     # print(len(Age))\n",
    "#     width = 0.3\n",
    "#     index = np.arange(len(Age[1])) * 3\n",
    "#     bars = [None]\n",
    "#     Colors = [None, \n",
    "#         'Red', 'Blue', 'Green', 'Yellow', \n",
    "#         'Purple', 'Orange', 'Gray', 'Pink',\n",
    "#         'Red', 'Blue', 'Green', 'Yellow', \n",
    "#         'Purple', 'Orange', 'Gray', 'Pink',\n",
    "#     ]\n",
    "#     Colors = plt.cm.viridis(np.linspace(0, 10, 9) % 1)\n",
    "# \n",
    "#     for i in range(1, 9):\n",
    "#         bars.append(plt.bar(\n",
    "#             [j + width * (i - 4.5) for j in index], \n",
    "#             Age[i] if not Age[i].empty else [0, 0], \n",
    "#             width=width, label=str(i * 10), color=Colors[i]\n",
    "#         ))\n",
    "# \n",
    "#     for i in range(1, 9):\n",
    "#         for bar in bars[i]:\n",
    "#             yval = bar.get_height()\n",
    "#             plt.text(\n",
    "#                 bar.get_x() + bar.get_width() / 2, yval,\n",
    "#                 f\"{i * 10 - 5}\",\n",
    "#                 ha='center', va='bottom'\n",
    "#             )\n",
    "# \n",
    "#     plt.xticks(index, ['Died', 'Survived'])\n",
    "#     plt.xlabel('Age')\n",
    "#     plt.ylabel('Count')\n",
    "#     plt.title('Survival by Age')\n",
    "#     plt.show()\n",
    "# \n",
    "# \n",
    "# drawSurvivedByAge(df)"
   ],
   "metadata": {
    "collapsed": false
   },
   "id": "b04df5b255bbd56",
   "execution_count": null
  },
  {
   "cell_type": "code",
   "outputs": [],
   "source": [
    "# def drawSurvivedBySex(df: pd.DataFrame):\n",
    "#     Sex = [None]\n",
    "# \n",
    "#     for i in ['male', 'female']:\n",
    "#         Sex.append(\n",
    "#             df[df['Sex'] == i]['Survived'].dropna().value_counts()\n",
    "#         )\n",
    "#         \n",
    "#     width = 0.3\n",
    "#     index = np.arange(len(Sex[1]))\n",
    "#     bars = [None]\n",
    "#     Colors = [None, 'Red', 'Blue']\n",
    "#     \n",
    "#     for i in range(1, 3):\n",
    "#         bars.append(plt.bar(\n",
    "#             [j + width * (i - 1.5) for j in index], Sex[i], width=width,\n",
    "#             label=f\"{'Male' if i == 1 else 'Female'}\", color=Colors[i]\n",
    "#         ))\n",
    "# \n",
    "#     for i in range(1, 3):\n",
    "#         for bar in bars[i]:\n",
    "#             yval = bar.get_height()\n",
    "#             plt.text(\n",
    "#                 bar.get_x() + bar.get_width() / 2, yval, \n",
    "#                 f\"{'Male' if i == 1 else 'Female'}\",\n",
    "#                 ha='center', va='bottom'\n",
    "#             )\n",
    "# \n",
    "#     plt.xticks(index, ['Died', 'Survived'])\n",
    "#     plt.xlabel('Sex')\n",
    "#     plt.ylabel('Count')\n",
    "#     plt.title('Survival by Sex')\n",
    "#     plt.legend(['Male', 'Female'])\n",
    "#     plt.show()\n",
    "# \n",
    "# \n",
    "# drawSurvivedBySex(df)"
   ],
   "metadata": {
    "collapsed": false
   },
   "id": "2e6972ea891d4fa6",
   "execution_count": null
  },
  {
   "cell_type": "code",
   "outputs": [],
   "source": [
    "# def drawSurvivedByPclass(df: pd.DataFrame):\n",
    "#     Pclass = [None]\n",
    "# \n",
    "#     for i in range(1, 4):\n",
    "#         Pclass.append(\n",
    "#             df[df['Pclass'] == i]['Survived'].dropna().value_counts()\n",
    "#         )\n",
    "# \n",
    "# \n",
    "#     width = 0.4\n",
    "#     index = np.arange(len(Pclass[1])) * 2\n",
    "#     bars = [None]\n",
    "#     Colors = [None, 'Red', 'Green', 'Blue']\n",
    "#     for i in range(1, 4):\n",
    "#         bars.append(plt.bar(\n",
    "#             [j + (width + 0.1) * (i - 2) for j in index], Pclass[i], width=width,\n",
    "#             label=f'Pclass {i}', color=Colors[i]\n",
    "#         ))\n",
    "# \n",
    "#     for i in range(1, 4):\n",
    "#         for bar in bars[i]:\n",
    "#             yval = bar.get_height()\n",
    "#             plt.text(\n",
    "#                 bar.get_x() + bar.get_width() / 2, yval, f\"Pclass {i}\",\n",
    "#                 ha='center', va='bottom'\n",
    "#             )\n",
    "# \n",
    "#     plt.xticks(index, ['Died', 'Survived'])\n",
    "#     plt.xlabel('Pclass')\n",
    "#     plt.ylabel('Count')\n",
    "#     plt.title('Survival by Pclass')\n",
    "#     plt.legend([f'Pclass {i}' for i in range(1, 4)])\n",
    "#     plt.show()\n",
    "# \n",
    "# \n",
    "# drawSurvivedByPclass(df)"
   ],
   "metadata": {
    "collapsed": false
   },
   "id": "68052656545311c7",
   "execution_count": null
  },
  {
   "cell_type": "code",
   "outputs": [],
   "source": [
    "# def gen_connection_matrix(df: pd.DataFrame):\n",
    "#     df['Sex'] = df['Sex'].map({'male': 0, 'female': 1})\n",
    "#     df['Embarked'] = df['Embarked'].map({'S': 0, 'C': 1, 'Q': 2})\n",
    "#     corr_matrix = df[['Pclass', 'Sex', 'Age', 'SibSp', 'Fare', 'Embarked']].corr(method='kendall')\n",
    "#     return corr_matrix\n",
    "# \n",
    "# gen_connection_matrix(df.copy())[['Fare']]"
   ],
   "metadata": {
    "collapsed": false
   },
   "id": "3513d029c19d6958",
   "execution_count": null
  }
 ],
 "metadata": {
  "kernelspec": {
   "display_name": "Python 3",
   "language": "python",
   "name": "python3"
  },
  "language_info": {
   "codemirror_mode": {
    "name": "ipython",
    "version": 2
   },
   "file_extension": ".py",
   "mimetype": "text/x-python",
   "name": "python",
   "nbconvert_exporter": "python",
   "pygments_lexer": "ipython2",
   "version": "2.7.6"
  }
 },
 "nbformat": 4,
 "nbformat_minor": 5
}
