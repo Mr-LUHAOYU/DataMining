{
 "cells": [
  {
   "cell_type": "markdown",
   "source": [
    "## 数据加载与分析"
   ],
   "metadata": {
    "collapsed": false
   },
   "id": "278c01ddc7d3a658"
  },
  {
   "cell_type": "code",
   "execution_count": null,
   "id": "initial_id",
   "metadata": {
    "collapsed": true
   },
   "outputs": [],
   "source": [
    "import pandas as pd\n",
    "\n",
    "df = pd.read_csv('Titanic.csv')\n",
    "df.info()"
   ]
  },
  {
   "cell_type": "markdown",
   "source": [
    "## 数据预处理"
   ],
   "metadata": {
    "collapsed": false
   },
   "id": "ec69765102d48055"
  },
  {
   "cell_type": "code",
   "outputs": [],
   "source": [
    "df.drop(['PassengerId', 'Name', 'Ticket', 'Cabin'], axis=1, inplace=True)\n",
    "df['Age'] = df['Age'].fillna(df['Age'].mean())\n",
    "df['Embarked'] = df['Embarked'].fillna(df['Embarked'].mode()[0])"
   ],
   "metadata": {
    "collapsed": false
   },
   "id": "ba1b4e5fc65134f6",
   "execution_count": null
  },
  {
   "cell_type": "markdown",
   "source": [
    "## 划分数据集"
   ],
   "metadata": {
    "collapsed": false
   },
   "id": "9f515f3110c89bb0"
  },
  {
   "cell_type": "code",
   "outputs": [],
   "source": [
    "from sklearn.model_selection import train_test_split\n",
    "import gower\n",
    "\n",
    "X = df.drop('Survived', axis=1)\n",
    "y = df['Survived']\n",
    "X_train, X_val, y_train, y_val = train_test_split(\n",
    "    X, y, test_size=0.2, random_state=42\n",
    ")\n",
    "X_train_dis = gower.gower_matrix(X_train)\n",
    "X_val_dis = gower.gower_matrix(X_val, X_train)"
   ],
   "metadata": {
    "collapsed": false
   },
   "id": "3b71d5e2439b6ef3",
   "execution_count": null
  },
  {
   "cell_type": "markdown",
   "source": [
    "## 选择 K 值并训练模型"
   ],
   "metadata": {
    "collapsed": false
   },
   "id": "38a1ddd366808f64"
  },
  {
   "cell_type": "code",
   "outputs": [],
   "source": [
    "from sklearn.neighbors import KNeighborsClassifier\n",
    "from sklearn.model_selection import cross_val_score\n",
    "import matplotlib.pyplot as plt\n",
    "\n",
    "k_values = range(1, 21)\n",
    "scores = []\n",
    "for k in k_values:\n",
    "    model = KNeighborsClassifier(n_neighbors=k, metric='precomputed')\n",
    "    score = cross_val_score(model, X_train_dis, y_train, cv=5)\n",
    "    scores.append(score.mean())\n",
    "\n",
    "plt.figure(figsize=(10, 6))\n",
    "plt.plot(k_values, scores, marker='o', linestyle='-', color='b', label='Cross-Validation Score')\n",
    "plt.xlabel('K Values')\n",
    "plt.ylabel('Mean Cross-Validation Score')\n",
    "plt.title('K-Nearest Neighbors: K Value vs Cross-Validation Score')\n",
    "plt.xticks(k_values)\n",
    "plt.grid(True)\n",
    "plt.legend()\n",
    "plt.show()\n",
    "\n",
    "optimal_k = k_values[scores.index(max(scores))]\n",
    "print(\"Optimal K:\", optimal_k)\n"
   ],
   "metadata": {
    "collapsed": false
   },
   "id": "4b63b5509900754f",
   "execution_count": null
  },
  {
   "cell_type": "markdown",
   "source": [
    "## 模型训练与评估"
   ],
   "metadata": {
    "collapsed": false
   },
   "id": "4507ccf31353355e"
  },
  {
   "cell_type": "code",
   "outputs": [],
   "source": [
    "model = KNeighborsClassifier(n_neighbors=optimal_k, metric='precomputed')\n",
    "model.fit(X_train_dis, y_train)\n",
    "accuracy = model.score(X_val_dis, y_val)\n",
    "print(\"Validation Accuracy:\", accuracy)"
   ],
   "metadata": {
    "collapsed": false
   },
   "id": "742d56f591fd01a5",
   "execution_count": null
  }
 ],
 "metadata": {
  "kernelspec": {
   "display_name": "Python 3",
   "language": "python",
   "name": "python3"
  },
  "language_info": {
   "codemirror_mode": {
    "name": "ipython",
    "version": 2
   },
   "file_extension": ".py",
   "mimetype": "text/x-python",
   "name": "python",
   "nbconvert_exporter": "python",
   "pygments_lexer": "ipython2",
   "version": "2.7.6"
  }
 },
 "nbformat": 4,
 "nbformat_minor": 5
}
