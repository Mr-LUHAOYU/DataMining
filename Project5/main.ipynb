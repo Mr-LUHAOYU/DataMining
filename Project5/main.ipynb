{
 "cells": [
  {
   "cell_type": "code",
   "outputs": [],
   "source": [
    "import pandas as pd\n",
    "\n",
    "data = pd.read_csv('Groceries_dataset.csv')\n",
    "display(data.head())\n",
    "display(data.info())"
   ],
   "metadata": {
    "collapsed": false
   },
   "id": "26dec4f0bd850709",
   "execution_count": null
  },
  {
   "cell_type": "code",
   "outputs": [],
   "source": [
    "data['Date'] = pd.to_datetime(data['Date'], dayfirst=True)\n",
    "data = data.sort_values(by=['Member_number', 'Date'])\n",
    "\n",
    "transactions = data.groupby(['Member_number', 'Date'])['itemDescription'].apply(set).reset_index(name='Transaction')\n",
    "\n",
    "transactions = transactions.sort_values(by=['Member_number', 'Date']).reset_index(drop=True)\n",
    "\n",
    "transactions.head()"
   ],
   "metadata": {
    "collapsed": false
   },
   "id": "ea812e305e56c59",
   "execution_count": null
  },
  {
   "cell_type": "code",
   "outputs": [],
   "source": [
    "# 函数运行时间的装饰器\n",
    "import time\n",
    "\n",
    "def timer(func):\n",
    "    def wrapper(*args, **kwargs):\n",
    "        start_time = time.time()\n",
    "        result = func(*args, **kwargs)\n",
    "        end_time = time.time()\n",
    "        print(f\"{func.__name__}: Support Threshold = {min_support:.2f}, Time = {end_time - start_time:.4f} seconds\")\n",
    "        return result, end_time - start_time\n",
    "    return wrapper\n",
    "\n",
    "@timer\n",
    "def Apriori(df, min_support):\n",
    "    frequent_itemsets = apriori(df, min_support=min_support, use_colnames=True)\n",
    "    return frequent_itemsets\n",
    "\n",
    "# def runner(func, dfs, min_supports, *args, **kwargs):\n",
    "    "
   ],
   "metadata": {
    "collapsed": false
   },
   "id": "3276970ca4712ab5",
   "execution_count": null
  },
  {
   "cell_type": "code",
   "outputs": [],
   "source": [
    "from mlxtend.preprocessing import TransactionEncoder\n",
    "from mlxtend.frequent_patterns import apriori, fpgrowth\n",
    "import time\n",
    "\n",
    "# 选择前100条事务\n",
    "sample_transactions = transactions['Transaction'].iloc[:100].tolist()\n",
    "\n",
    "# 转换事务集为布尔矩阵\n",
    "te = TransactionEncoder()\n",
    "te_ary = te.fit(sample_transactions).transform(sample_transactions)\n",
    "df = pd.DataFrame(te_ary, columns=te.columns_)\n",
    "\n",
    "# 设置支持度阈值\n",
    "min_supports = [0.01, 0.02, 0.03, 0.04, 0.05, 0.1]\n",
    "apriori_time = []\n",
    "fpgrowth_time = []\n",
    "\n",
    "for min_support in min_supports:\n",
    "    # Apriori算法\n",
    "    start_time = time.time()\n",
    "    frequent_itemsets_apriori = apriori(df,min_support=min_support, use_colnames=True)\n",
    "    t = time.time() - start_time\n",
    "    apriori_time.append(t)    \n",
    "    print(f'Apriori: Support Threshold = {min_support:.2f}, Time = {t} seconds')\n",
    "for min_support in min_supports:\n",
    "    # FP-growth算法\n",
    "    start_time = time.time()\n",
    "    frequent_itemsets_fpgrowth = fpgrowth(df,min_support=min_support, use_colnames=True)\n",
    "    t = time.time() - start_time\n",
    "    fpgrowth_time.append(t)\n",
    "    print(f'FP-growth: Support Threshold = {min_support:.2f}, Time = {t} seconds')\n"
   ],
   "metadata": {
    "collapsed": false
   },
   "id": "54018bf6c119142c",
   "execution_count": null
  },
  {
   "cell_type": "code",
   "outputs": [],
   "source": [
    "import matplotlib.pyplot as plt\n",
    "\n",
    "plt.plot(min_supports, apriori_time, marker='o', linestyle='-', color='b', label='Apriori')\n",
    "plt.plot(min_supports, fpgrowth_time, marker='o', linestyle='-', color='r', label='FP-growth')\n",
    "\n",
    "plt.title(\"Runtime Comparison\")\n",
    "plt.xlabel(\"Support Threshold\")\n",
    "plt.ylabel(\"Runtime (seconds)\")\n",
    "\n",
    "plt.legend()\n",
    "plt.show()\n"
   ],
   "metadata": {
    "collapsed": false
   },
   "id": "dfb5004d39afb2c8",
   "execution_count": null
  },
  {
   "cell_type": "code",
   "outputs": [],
   "source": [
    "# 定义事务规模\n",
    "transaction_sizes = [100, 500, 1000]\n",
    "results = []\n",
    "\n",
    "for size in transaction_sizes:\n",
    "    sample_transactions = transactions['Transaction'].iloc[:size].tolist()\n",
    "    te_ary = te.fit(sample_transactions).transform(sample_transactions)\n",
    "    df = pd.DataFrame(te_ary, columns=te.columns_)\n",
    "    \n",
    "    # Apriori算法\n",
    "    start_time = time.time()\n",
    "    apriori(df, min_support=min_support, use_colnames=True)\n",
    "    apriori_time = time.time() - start_time\n",
    "    \n",
    "    # FP-growth算法\n",
    "    start_time = time.time()\n",
    "    fpgrowth(df, min_support=min_support, use_colnames=True)\n",
    "    fpgrowth_time = time.time() - start_time\n",
    "    \n",
    "    results.append((size, apriori_time, fpgrowth_time))\n",
    "\n",
    "# 输出对比结果\n",
    "for size, apriori_time, fpgrowth_time in results:\n",
    "    print(f\"事务数: {size}, Apriori时间: {apriori_time:.4f}秒, FP-growth时间: {fpgrowth_time:.4f}秒\")\n"
   ],
   "metadata": {
    "collapsed": false
   },
   "id": "dac8daec3582443d",
   "execution_count": null
  },
  {
   "cell_type": "code",
   "outputs": [],
   "source": [
    "import matplotlib.pyplot as plt\n",
    "\n",
    "transaction_sizes, apriori_time, fpgrowth_time = zip(*results)\n",
    "\n",
    "plt.plot(transaction_sizes, apriori_time, marker='o', linestyle='-', color='b', label='Apriori')\n",
    "plt.plot(transaction_sizes, fpgrowth_time, marker='o', linestyle='-', color='r', label='FP-growth')\n",
    "\n",
    "plt.title(\"Runtime Comparison\")\n",
    "plt.xlabel(\"Support Threshold\")\n",
    "plt.ylabel(\"Runtime (seconds)\")\n",
    "\n",
    "plt.legend()\n",
    "plt.show()\n"
   ],
   "metadata": {
    "collapsed": false
   },
   "id": "a5788db20260b9e3",
   "execution_count": null
  },
  {
   "cell_type": "code",
   "outputs": [],
   "source": [
    "from mlxtend.frequent_patterns import association_rules\n",
    "\n",
    "# 设置置信度阈值\n",
    "min_confidence = 0.5\n",
    "sample_transactions = transactions['Transaction'].iloc[:100].tolist()\n",
    "\n",
    "te = TransactionEncoder()\n",
    "te_ary = te.fit(sample_transactions).transform(sample_transactions)\n",
    "df = pd.DataFrame(te_ary, columns=te.columns_)\n",
    "\n",
    "frequent_itemsets = apriori(df, min_support=0.01, use_colnames=True)\n",
    "\n",
    "# 生成强关联规则\n",
    "rules = association_rules(frequent_itemsets, metric=\"confidence\", min_threshold=min_confidence, num_itemsets=100)\n",
    "\n",
    "# 计算评估指标\n",
    "rules['lift'] = rules['lift']\n",
    "rules['all_confidence'] = rules[['antecedent support', 'consequent support']].min(axis=1)\n",
    "rules['max_confidence'] = rules[['confidence', 'lift']].max(axis=1)\n",
    "rules['kluc'] = rules['confidence'] * rules['lift']\n",
    "rules['cosine'] = rules['confidence'] / (rules['antecedent support'] * rules['consequent support'])**0.5\n",
    "\n",
    "# 查看前几条规则和评估指标\n",
    "rules[['antecedents', 'consequents', 'support', 'confidence', 'lift', 'all_confidence', 'max_confidence', 'kluc', 'cosine']]\n"
   ],
   "metadata": {
    "collapsed": false
   },
   "id": "d756a879d82f6117",
   "execution_count": null
  },
  {
   "cell_type": "code",
   "outputs": [],
   "source": [],
   "metadata": {
    "collapsed": false
   },
   "id": "945e88a7f7ee9724",
   "execution_count": null
  }
 ],
 "metadata": {
  "kernelspec": {
   "display_name": "Python 3",
   "language": "python",
   "name": "python3"
  },
  "language_info": {
   "codemirror_mode": {
    "name": "ipython",
    "version": 2
   },
   "file_extension": ".py",
   "mimetype": "text/x-python",
   "name": "python",
   "nbconvert_exporter": "python",
   "pygments_lexer": "ipython2",
   "version": "2.7.6"
  }
 },
 "nbformat": 4,
 "nbformat_minor": 5
}
